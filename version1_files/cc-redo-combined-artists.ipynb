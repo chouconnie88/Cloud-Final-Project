{
 "cells": [
  {
   "cell_type": "code",
   "execution_count": 1,
   "id": "efdae514-01d3-4157-982f-b3099c17bdcc",
   "metadata": {
    "tags": []
   },
   "outputs": [
    {
     "name": "stderr",
     "output_type": "stream",
     "text": [
      "/home/ec2-user/anaconda3/envs/python3/lib/python3.10/site-packages/pandas/core/computation/expressions.py:21: UserWarning: Pandas requires version '2.8.0' or newer of 'numexpr' (version '2.7.3' currently installed).\n",
      "  from pandas.core.computation.check import NUMEXPR_INSTALLED\n"
     ]
    }
   ],
   "source": [
    "import s3fs\n",
    "import pandas as pd"
   ]
  },
  {
   "cell_type": "code",
   "execution_count": 2,
   "id": "e2ebb430-4d6c-4272-8475-294641802827",
   "metadata": {
    "tags": []
   },
   "outputs": [],
   "source": [
    "#function to open files from s3\n",
    "def get_file_in_s3(file_key_name):\n",
    "    # Initialize s3fs instance\n",
    "    s3 = s3fs.S3FileSystem()\n",
    "\n",
    "    # Bucket name and file key (path)\n",
    "    bucket_name = 'tswift'\n",
    "    file_key = file_key_name\n",
    "\n",
    "    try:\n",
    "        # Open the file using s3fs and read it into a DataFrame\n",
    "        with s3.open(f\"s3://{bucket_name}/{file_key}\", 'rb') as f:\n",
    "            df_name = pd.read_csv(f)\n",
    "            df_name = df_name.drop([\"Unnamed: 0\"], axis=1)\n",
    "    except Exception as e:\n",
    "        print(\"An error occurred:\", str(e))\n",
    "        return None\n",
    "    \n",
    "    return df_name"
   ]
  },
  {
   "cell_type": "code",
   "execution_count": 33,
   "id": "e23fbfe0-3bf2-4ee5-a831-e4c1bf1f50aa",
   "metadata": {
    "tags": []
   },
   "outputs": [],
   "source": [
    "tswift_df = get_file_in_s3(\"tswift_df.csv\")\n",
    "tswift_df[\"artist\"] = \"Taylor Swift\""
   ]
  },
  {
   "cell_type": "code",
   "execution_count": 34,
   "id": "879d9bb0-53a1-4f05-b2bb-8292e416d678",
   "metadata": {
    "tags": []
   },
   "outputs": [],
   "source": [
    "#doja cat\n",
    "doja_df = get_file_in_s3(\"DOJAspotify.csv\")\n",
    "doja_df[\"artist\"] = \"Doja Cat\""
   ]
  },
  {
   "cell_type": "code",
   "execution_count": 35,
   "id": "c559f349-d68b-49f5-9228-7f06d5339277",
   "metadata": {
    "tags": []
   },
   "outputs": [],
   "source": [
    "#miley cyrus\n",
    "miley_df = get_file_in_s3(\"MILEYspotify(2).csv\")\n",
    "miley_df[\"artist\"] = \"Miley Cyrus\""
   ]
  },
  {
   "cell_type": "code",
   "execution_count": 36,
   "id": "793a49cb-8aab-429e-8ed4-0ea05f4618f0",
   "metadata": {
    "tags": []
   },
   "outputs": [],
   "source": [
    "#olivia rodrigo\n",
    "olivia_df = get_file_in_s3(\"OLIVIAspotify.csv\")\n",
    "olivia_df[\"artist\"] = \"Olivia Rodrigo\""
   ]
  },
  {
   "cell_type": "code",
   "execution_count": 37,
   "id": "3df96227-2f99-49e4-8384-3dd094baf73b",
   "metadata": {
    "tags": []
   },
   "outputs": [],
   "source": [
    "#luke combs\n",
    "luke_df = get_file_in_s3(\"LUKECspotify.csv\")\n",
    "luke_df[\"artist\"] = \"Luke Combs\""
   ]
  },
  {
   "cell_type": "code",
   "execution_count": 38,
   "id": "edec85b0-1de4-4c30-a2d6-617310a7f516",
   "metadata": {
    "tags": []
   },
   "outputs": [],
   "source": [
    "#morgan wallen\n",
    "morgan_df = get_file_in_s3(\"MORGANWspotify.csv\")\n",
    "morgan_df[\"artist\"] = \"Morgan Wallace\""
   ]
  },
  {
   "cell_type": "code",
   "execution_count": 39,
   "id": "00565599-54c5-4052-b12e-f66c76b68529",
   "metadata": {
    "tags": []
   },
   "outputs": [],
   "source": [
    "#zach bryan\n",
    "zach_df = get_file_in_s3(\"ZACHBspotify.csv\")\n",
    "zach_df[\"artist\"] = \"Zach Bryan\""
   ]
  },
  {
   "cell_type": "code",
   "execution_count": 40,
   "id": "6f576391-87ed-4620-a960-29810ec3b16a",
   "metadata": {
    "tags": []
   },
   "outputs": [
    {
     "data": {
      "text/html": [
       "<div>\n",
       "<style scoped>\n",
       "    .dataframe tbody tr th:only-of-type {\n",
       "        vertical-align: middle;\n",
       "    }\n",
       "\n",
       "    .dataframe tbody tr th {\n",
       "        vertical-align: top;\n",
       "    }\n",
       "\n",
       "    .dataframe thead th {\n",
       "        text-align: right;\n",
       "    }\n",
       "</style>\n",
       "<table border=\"1\" class=\"dataframe\">\n",
       "  <thead>\n",
       "    <tr style=\"text-align: right;\">\n",
       "      <th></th>\n",
       "      <th>name</th>\n",
       "      <th>album</th>\n",
       "      <th>release_date</th>\n",
       "      <th>length</th>\n",
       "      <th>popularity</th>\n",
       "      <th>acousticness</th>\n",
       "      <th>danceability</th>\n",
       "      <th>energy</th>\n",
       "      <th>instrumentalness</th>\n",
       "      <th>liveness</th>\n",
       "      <th>loudness</th>\n",
       "      <th>speechiness</th>\n",
       "      <th>tempo</th>\n",
       "      <th>time_signature</th>\n",
       "      <th>artist</th>\n",
       "    </tr>\n",
       "  </thead>\n",
       "  <tbody>\n",
       "    <tr>\n",
       "      <th>0</th>\n",
       "      <td>Welcome To New York (Taylor's Version)</td>\n",
       "      <td>1989 (Taylor's Version) [Deluxe]</td>\n",
       "      <td>2023-10-27</td>\n",
       "      <td>212600</td>\n",
       "      <td>70</td>\n",
       "      <td>0.009420</td>\n",
       "      <td>0.757</td>\n",
       "      <td>0.610</td>\n",
       "      <td>0.000037</td>\n",
       "      <td>0.3670</td>\n",
       "      <td>-4.840</td>\n",
       "      <td>0.0327</td>\n",
       "      <td>116.998</td>\n",
       "      <td>4</td>\n",
       "      <td>Taylor Swift</td>\n",
       "    </tr>\n",
       "    <tr>\n",
       "      <th>1</th>\n",
       "      <td>Blank Space (Taylor's Version)</td>\n",
       "      <td>1989 (Taylor's Version) [Deluxe]</td>\n",
       "      <td>2023-10-27</td>\n",
       "      <td>231833</td>\n",
       "      <td>71</td>\n",
       "      <td>0.088500</td>\n",
       "      <td>0.733</td>\n",
       "      <td>0.733</td>\n",
       "      <td>0.000000</td>\n",
       "      <td>0.1680</td>\n",
       "      <td>-5.376</td>\n",
       "      <td>0.0670</td>\n",
       "      <td>96.057</td>\n",
       "      <td>4</td>\n",
       "      <td>Taylor Swift</td>\n",
       "    </tr>\n",
       "    <tr>\n",
       "      <th>2</th>\n",
       "      <td>Style (Taylor's Version)</td>\n",
       "      <td>1989 (Taylor's Version) [Deluxe]</td>\n",
       "      <td>2023-10-27</td>\n",
       "      <td>231000</td>\n",
       "      <td>73</td>\n",
       "      <td>0.000421</td>\n",
       "      <td>0.511</td>\n",
       "      <td>0.822</td>\n",
       "      <td>0.019700</td>\n",
       "      <td>0.0899</td>\n",
       "      <td>-4.785</td>\n",
       "      <td>0.0397</td>\n",
       "      <td>94.868</td>\n",
       "      <td>4</td>\n",
       "      <td>Taylor Swift</td>\n",
       "    </tr>\n",
       "    <tr>\n",
       "      <th>3</th>\n",
       "      <td>Out Of The Woods (Taylor's Version)</td>\n",
       "      <td>1989 (Taylor's Version) [Deluxe]</td>\n",
       "      <td>2023-10-27</td>\n",
       "      <td>235800</td>\n",
       "      <td>71</td>\n",
       "      <td>0.000537</td>\n",
       "      <td>0.545</td>\n",
       "      <td>0.885</td>\n",
       "      <td>0.000056</td>\n",
       "      <td>0.3850</td>\n",
       "      <td>-5.968</td>\n",
       "      <td>0.0447</td>\n",
       "      <td>92.021</td>\n",
       "      <td>4</td>\n",
       "      <td>Taylor Swift</td>\n",
       "    </tr>\n",
       "    <tr>\n",
       "      <th>4</th>\n",
       "      <td>All You Had To Do Was Stay (Taylor's Version)</td>\n",
       "      <td>1989 (Taylor's Version) [Deluxe]</td>\n",
       "      <td>2023-10-27</td>\n",
       "      <td>193289</td>\n",
       "      <td>70</td>\n",
       "      <td>0.000656</td>\n",
       "      <td>0.588</td>\n",
       "      <td>0.721</td>\n",
       "      <td>0.000000</td>\n",
       "      <td>0.1310</td>\n",
       "      <td>-5.579</td>\n",
       "      <td>0.0317</td>\n",
       "      <td>96.997</td>\n",
       "      <td>4</td>\n",
       "      <td>Taylor Swift</td>\n",
       "    </tr>\n",
       "  </tbody>\n",
       "</table>\n",
       "</div>"
      ],
      "text/plain": [
       "                                            name  \\\n",
       "0         Welcome To New York (Taylor's Version)   \n",
       "1                 Blank Space (Taylor's Version)   \n",
       "2                       Style (Taylor's Version)   \n",
       "3            Out Of The Woods (Taylor's Version)   \n",
       "4  All You Had To Do Was Stay (Taylor's Version)   \n",
       "\n",
       "                              album release_date  length  popularity  \\\n",
       "0  1989 (Taylor's Version) [Deluxe]   2023-10-27  212600          70   \n",
       "1  1989 (Taylor's Version) [Deluxe]   2023-10-27  231833          71   \n",
       "2  1989 (Taylor's Version) [Deluxe]   2023-10-27  231000          73   \n",
       "3  1989 (Taylor's Version) [Deluxe]   2023-10-27  235800          71   \n",
       "4  1989 (Taylor's Version) [Deluxe]   2023-10-27  193289          70   \n",
       "\n",
       "   acousticness  danceability  energy  instrumentalness  liveness  loudness  \\\n",
       "0      0.009420         0.757   0.610          0.000037    0.3670    -4.840   \n",
       "1      0.088500         0.733   0.733          0.000000    0.1680    -5.376   \n",
       "2      0.000421         0.511   0.822          0.019700    0.0899    -4.785   \n",
       "3      0.000537         0.545   0.885          0.000056    0.3850    -5.968   \n",
       "4      0.000656         0.588   0.721          0.000000    0.1310    -5.579   \n",
       "\n",
       "   speechiness    tempo  time_signature        artist  \n",
       "0       0.0327  116.998               4  Taylor Swift  \n",
       "1       0.0670   96.057               4  Taylor Swift  \n",
       "2       0.0397   94.868               4  Taylor Swift  \n",
       "3       0.0447   92.021               4  Taylor Swift  \n",
       "4       0.0317   96.997               4  Taylor Swift  "
      ]
     },
     "execution_count": 40,
     "metadata": {},
     "output_type": "execute_result"
    }
   ],
   "source": [
    "#concat all of them together into one big dataframe\n",
    "combined_artists = pd.concat([tswift_df, doja_df, miley_df, olivia_df, luke_df, morgan_df, zach_df])\n",
    "combined_artists.head()"
   ]
  },
  {
   "cell_type": "code",
   "execution_count": 41,
   "id": "71df3010-5f23-413a-b5a2-4e895dfd766f",
   "metadata": {
    "tags": []
   },
   "outputs": [
    {
     "data": {
      "text/html": [
       "<div>\n",
       "<style scoped>\n",
       "    .dataframe tbody tr th:only-of-type {\n",
       "        vertical-align: middle;\n",
       "    }\n",
       "\n",
       "    .dataframe tbody tr th {\n",
       "        vertical-align: top;\n",
       "    }\n",
       "\n",
       "    .dataframe thead th {\n",
       "        text-align: right;\n",
       "    }\n",
       "</style>\n",
       "<table border=\"1\" class=\"dataframe\">\n",
       "  <thead>\n",
       "    <tr style=\"text-align: right;\">\n",
       "      <th></th>\n",
       "      <th>name</th>\n",
       "      <th>album</th>\n",
       "      <th>release_date</th>\n",
       "      <th>length</th>\n",
       "      <th>popularity</th>\n",
       "      <th>acousticness</th>\n",
       "      <th>danceability</th>\n",
       "      <th>energy</th>\n",
       "      <th>instrumentalness</th>\n",
       "      <th>liveness</th>\n",
       "      <th>loudness</th>\n",
       "      <th>speechiness</th>\n",
       "      <th>tempo</th>\n",
       "      <th>time_signature</th>\n",
       "      <th>artist</th>\n",
       "    </tr>\n",
       "  </thead>\n",
       "  <tbody>\n",
       "    <tr>\n",
       "      <th>99</th>\n",
       "      <td>Snow</td>\n",
       "      <td>DeAnn</td>\n",
       "      <td>2019-08-24</td>\n",
       "      <td>178573</td>\n",
       "      <td>74</td>\n",
       "      <td>0.806</td>\n",
       "      <td>0.557</td>\n",
       "      <td>0.0736</td>\n",
       "      <td>0.000000</td>\n",
       "      <td>0.0990</td>\n",
       "      <td>-15.741</td>\n",
       "      <td>0.0568</td>\n",
       "      <td>155.294</td>\n",
       "      <td>4</td>\n",
       "      <td>Zach Bryan</td>\n",
       "    </tr>\n",
       "    <tr>\n",
       "      <th>100</th>\n",
       "      <td>Man Thats Never Known You</td>\n",
       "      <td>DeAnn</td>\n",
       "      <td>2019-08-24</td>\n",
       "      <td>185514</td>\n",
       "      <td>60</td>\n",
       "      <td>0.906</td>\n",
       "      <td>0.667</td>\n",
       "      <td>0.0598</td>\n",
       "      <td>0.000000</td>\n",
       "      <td>0.1010</td>\n",
       "      <td>-14.978</td>\n",
       "      <td>0.0490</td>\n",
       "      <td>78.672</td>\n",
       "      <td>4</td>\n",
       "      <td>Zach Bryan</td>\n",
       "    </tr>\n",
       "    <tr>\n",
       "      <th>101</th>\n",
       "      <td>Moon in Oklahoma</td>\n",
       "      <td>DeAnn</td>\n",
       "      <td>2019-08-24</td>\n",
       "      <td>179761</td>\n",
       "      <td>58</td>\n",
       "      <td>0.883</td>\n",
       "      <td>0.665</td>\n",
       "      <td>0.0812</td>\n",
       "      <td>0.000002</td>\n",
       "      <td>0.0843</td>\n",
       "      <td>-15.459</td>\n",
       "      <td>0.0448</td>\n",
       "      <td>79.483</td>\n",
       "      <td>4</td>\n",
       "      <td>Zach Bryan</td>\n",
       "    </tr>\n",
       "    <tr>\n",
       "      <th>102</th>\n",
       "      <td>Condemned</td>\n",
       "      <td>DeAnn</td>\n",
       "      <td>2019-08-24</td>\n",
       "      <td>174673</td>\n",
       "      <td>81</td>\n",
       "      <td>0.831</td>\n",
       "      <td>0.616</td>\n",
       "      <td>0.1500</td>\n",
       "      <td>0.000000</td>\n",
       "      <td>0.2030</td>\n",
       "      <td>-13.517</td>\n",
       "      <td>0.1190</td>\n",
       "      <td>126.462</td>\n",
       "      <td>4</td>\n",
       "      <td>Zach Bryan</td>\n",
       "    </tr>\n",
       "    <tr>\n",
       "      <th>103</th>\n",
       "      <td>Sweet DeAnn</td>\n",
       "      <td>DeAnn</td>\n",
       "      <td>2019-08-24</td>\n",
       "      <td>204906</td>\n",
       "      <td>61</td>\n",
       "      <td>0.789</td>\n",
       "      <td>0.542</td>\n",
       "      <td>0.1740</td>\n",
       "      <td>0.000008</td>\n",
       "      <td>0.1020</td>\n",
       "      <td>-14.047</td>\n",
       "      <td>0.0636</td>\n",
       "      <td>99.252</td>\n",
       "      <td>5</td>\n",
       "      <td>Zach Bryan</td>\n",
       "    </tr>\n",
       "  </tbody>\n",
       "</table>\n",
       "</div>"
      ],
      "text/plain": [
       "                          name  album release_date  length  popularity  \\\n",
       "99                        Snow  DeAnn   2019-08-24  178573          74   \n",
       "100  Man Thats Never Known You  DeAnn   2019-08-24  185514          60   \n",
       "101           Moon in Oklahoma  DeAnn   2019-08-24  179761          58   \n",
       "102                  Condemned  DeAnn   2019-08-24  174673          81   \n",
       "103                Sweet DeAnn  DeAnn   2019-08-24  204906          61   \n",
       "\n",
       "     acousticness  danceability  energy  instrumentalness  liveness  loudness  \\\n",
       "99          0.806         0.557  0.0736          0.000000    0.0990   -15.741   \n",
       "100         0.906         0.667  0.0598          0.000000    0.1010   -14.978   \n",
       "101         0.883         0.665  0.0812          0.000002    0.0843   -15.459   \n",
       "102         0.831         0.616  0.1500          0.000000    0.2030   -13.517   \n",
       "103         0.789         0.542  0.1740          0.000008    0.1020   -14.047   \n",
       "\n",
       "     speechiness    tempo  time_signature      artist  \n",
       "99        0.0568  155.294               4  Zach Bryan  \n",
       "100       0.0490   78.672               4  Zach Bryan  \n",
       "101       0.0448   79.483               4  Zach Bryan  \n",
       "102       0.1190  126.462               4  Zach Bryan  \n",
       "103       0.0636   99.252               5  Zach Bryan  "
      ]
     },
     "execution_count": 41,
     "metadata": {},
     "output_type": "execute_result"
    }
   ],
   "source": [
    "combined_artists.tail()"
   ]
  },
  {
   "cell_type": "code",
   "execution_count": 42,
   "id": "0fbaf57d-948b-4897-804f-18c612ad406b",
   "metadata": {
    "tags": []
   },
   "outputs": [],
   "source": [
    "combined_artists.to_csv(\"updated_combined_artists.csv\", index=False)"
   ]
  }
 ],
 "metadata": {
  "kernelspec": {
   "display_name": "conda_python3",
   "language": "python",
   "name": "conda_python3"
  },
  "language_info": {
   "codemirror_mode": {
    "name": "ipython",
    "version": 3
   },
   "file_extension": ".py",
   "mimetype": "text/x-python",
   "name": "python",
   "nbconvert_exporter": "python",
   "pygments_lexer": "ipython3",
   "version": "3.10.13"
  }
 },
 "nbformat": 4,
 "nbformat_minor": 5
}
