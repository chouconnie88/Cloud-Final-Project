{
 "cells": [
  {
   "cell_type": "code",
   "execution_count": 69,
   "id": "172f38a9-2bed-4ddc-bbd1-2381185915dc",
   "metadata": {
    "tags": []
   },
   "outputs": [],
   "source": [
    "import s3fs\n",
    "import pandas as pd"
   ]
  },
  {
   "cell_type": "code",
   "execution_count": 73,
   "id": "14ee91c8-ab30-4edb-9289-fd5ba8ddc25a",
   "metadata": {
    "tags": []
   },
   "outputs": [],
   "source": [
    "#function to open files from s3\n",
    "def get_file_in_s3(file_key_name):\n",
    "    # Initialize s3fs instance\n",
    "    s3 = s3fs.S3FileSystem()\n",
    "\n",
    "    # Bucket name and file key (path)\n",
    "    bucket_name = 'tswift'\n",
    "    file_key = file_key_name\n",
    "\n",
    "    try:\n",
    "        # Open the file using s3fs and read it into a DataFrame\n",
    "        with s3.open(f\"s3://{bucket_name}/{file_key}\", 'rb') as f:\n",
    "            df_name = pd.read_csv(f)\n",
    "            df_name = df_name.drop([\"Unnamed: 0\"], axis=1)\n",
    "    except Exception as e:\n",
    "        print(\"An error occurred:\", str(e))\n",
    "        return None\n",
    "    \n",
    "    return df_name"
   ]
  },
  {
   "cell_type": "code",
   "execution_count": 71,
   "id": "602a6605-faac-408d-9e5d-f5cf9410788f",
   "metadata": {
    "tags": []
   },
   "outputs": [
    {
     "data": {
      "text/html": [
       "<div>\n",
       "<style scoped>\n",
       "    .dataframe tbody tr th:only-of-type {\n",
       "        vertical-align: middle;\n",
       "    }\n",
       "\n",
       "    .dataframe tbody tr th {\n",
       "        vertical-align: top;\n",
       "    }\n",
       "\n",
       "    .dataframe thead th {\n",
       "        text-align: right;\n",
       "    }\n",
       "</style>\n",
       "<table border=\"1\" class=\"dataframe\">\n",
       "  <thead>\n",
       "    <tr style=\"text-align: right;\">\n",
       "      <th></th>\n",
       "      <th>name</th>\n",
       "      <th>album</th>\n",
       "      <th>release_date</th>\n",
       "      <th>length</th>\n",
       "      <th>popularity</th>\n",
       "      <th>acousticness</th>\n",
       "      <th>danceability</th>\n",
       "      <th>energy</th>\n",
       "      <th>instrumentalness</th>\n",
       "      <th>liveness</th>\n",
       "      <th>loudness</th>\n",
       "      <th>speechiness</th>\n",
       "      <th>tempo</th>\n",
       "      <th>time_signature</th>\n",
       "    </tr>\n",
       "  </thead>\n",
       "  <tbody>\n",
       "    <tr>\n",
       "      <th>0</th>\n",
       "      <td>Welcome To New York (Taylor's Version)</td>\n",
       "      <td>1989 (Taylor's Version) [Deluxe]</td>\n",
       "      <td>2023-10-27</td>\n",
       "      <td>212600</td>\n",
       "      <td>70</td>\n",
       "      <td>0.009420</td>\n",
       "      <td>0.757</td>\n",
       "      <td>0.610</td>\n",
       "      <td>0.000037</td>\n",
       "      <td>0.3670</td>\n",
       "      <td>-4.840</td>\n",
       "      <td>0.0327</td>\n",
       "      <td>116.998</td>\n",
       "      <td>4</td>\n",
       "    </tr>\n",
       "    <tr>\n",
       "      <th>1</th>\n",
       "      <td>Blank Space (Taylor's Version)</td>\n",
       "      <td>1989 (Taylor's Version) [Deluxe]</td>\n",
       "      <td>2023-10-27</td>\n",
       "      <td>231833</td>\n",
       "      <td>71</td>\n",
       "      <td>0.088500</td>\n",
       "      <td>0.733</td>\n",
       "      <td>0.733</td>\n",
       "      <td>0.000000</td>\n",
       "      <td>0.1680</td>\n",
       "      <td>-5.376</td>\n",
       "      <td>0.0670</td>\n",
       "      <td>96.057</td>\n",
       "      <td>4</td>\n",
       "    </tr>\n",
       "    <tr>\n",
       "      <th>2</th>\n",
       "      <td>Style (Taylor's Version)</td>\n",
       "      <td>1989 (Taylor's Version) [Deluxe]</td>\n",
       "      <td>2023-10-27</td>\n",
       "      <td>231000</td>\n",
       "      <td>73</td>\n",
       "      <td>0.000421</td>\n",
       "      <td>0.511</td>\n",
       "      <td>0.822</td>\n",
       "      <td>0.019700</td>\n",
       "      <td>0.0899</td>\n",
       "      <td>-4.785</td>\n",
       "      <td>0.0397</td>\n",
       "      <td>94.868</td>\n",
       "      <td>4</td>\n",
       "    </tr>\n",
       "    <tr>\n",
       "      <th>3</th>\n",
       "      <td>Out Of The Woods (Taylor's Version)</td>\n",
       "      <td>1989 (Taylor's Version) [Deluxe]</td>\n",
       "      <td>2023-10-27</td>\n",
       "      <td>235800</td>\n",
       "      <td>71</td>\n",
       "      <td>0.000537</td>\n",
       "      <td>0.545</td>\n",
       "      <td>0.885</td>\n",
       "      <td>0.000056</td>\n",
       "      <td>0.3850</td>\n",
       "      <td>-5.968</td>\n",
       "      <td>0.0447</td>\n",
       "      <td>92.021</td>\n",
       "      <td>4</td>\n",
       "    </tr>\n",
       "    <tr>\n",
       "      <th>4</th>\n",
       "      <td>All You Had To Do Was Stay (Taylor's Version)</td>\n",
       "      <td>1989 (Taylor's Version) [Deluxe]</td>\n",
       "      <td>2023-10-27</td>\n",
       "      <td>193289</td>\n",
       "      <td>70</td>\n",
       "      <td>0.000656</td>\n",
       "      <td>0.588</td>\n",
       "      <td>0.721</td>\n",
       "      <td>0.000000</td>\n",
       "      <td>0.1310</td>\n",
       "      <td>-5.579</td>\n",
       "      <td>0.0317</td>\n",
       "      <td>96.997</td>\n",
       "      <td>4</td>\n",
       "    </tr>\n",
       "    <tr>\n",
       "      <th>...</th>\n",
       "      <td>...</td>\n",
       "      <td>...</td>\n",
       "      <td>...</td>\n",
       "      <td>...</td>\n",
       "      <td>...</td>\n",
       "      <td>...</td>\n",
       "      <td>...</td>\n",
       "      <td>...</td>\n",
       "      <td>...</td>\n",
       "      <td>...</td>\n",
       "      <td>...</td>\n",
       "      <td>...</td>\n",
       "      <td>...</td>\n",
       "      <td>...</td>\n",
       "    </tr>\n",
       "    <tr>\n",
       "      <th>525</th>\n",
       "      <td>Our Song</td>\n",
       "      <td>Taylor Swift</td>\n",
       "      <td>2006-10-24</td>\n",
       "      <td>201106</td>\n",
       "      <td>76</td>\n",
       "      <td>0.111000</td>\n",
       "      <td>0.668</td>\n",
       "      <td>0.672</td>\n",
       "      <td>0.000000</td>\n",
       "      <td>0.3290</td>\n",
       "      <td>-4.931</td>\n",
       "      <td>0.0303</td>\n",
       "      <td>89.011</td>\n",
       "      <td>4</td>\n",
       "    </tr>\n",
       "    <tr>\n",
       "      <th>526</th>\n",
       "      <td>I'm Only Me When I'm With You</td>\n",
       "      <td>Taylor Swift</td>\n",
       "      <td>2006-10-24</td>\n",
       "      <td>213053</td>\n",
       "      <td>62</td>\n",
       "      <td>0.004520</td>\n",
       "      <td>0.563</td>\n",
       "      <td>0.934</td>\n",
       "      <td>0.000807</td>\n",
       "      <td>0.1030</td>\n",
       "      <td>-3.629</td>\n",
       "      <td>0.0646</td>\n",
       "      <td>143.964</td>\n",
       "      <td>4</td>\n",
       "    </tr>\n",
       "    <tr>\n",
       "      <th>527</th>\n",
       "      <td>Invisible</td>\n",
       "      <td>Taylor Swift</td>\n",
       "      <td>2006-10-24</td>\n",
       "      <td>203226</td>\n",
       "      <td>59</td>\n",
       "      <td>0.637000</td>\n",
       "      <td>0.612</td>\n",
       "      <td>0.394</td>\n",
       "      <td>0.000000</td>\n",
       "      <td>0.1470</td>\n",
       "      <td>-5.723</td>\n",
       "      <td>0.0243</td>\n",
       "      <td>96.001</td>\n",
       "      <td>4</td>\n",
       "    </tr>\n",
       "    <tr>\n",
       "      <th>528</th>\n",
       "      <td>A Perfectly Good Heart</td>\n",
       "      <td>Taylor Swift</td>\n",
       "      <td>2006-10-24</td>\n",
       "      <td>220146</td>\n",
       "      <td>57</td>\n",
       "      <td>0.003490</td>\n",
       "      <td>0.483</td>\n",
       "      <td>0.751</td>\n",
       "      <td>0.000000</td>\n",
       "      <td>0.1280</td>\n",
       "      <td>-5.726</td>\n",
       "      <td>0.0365</td>\n",
       "      <td>156.092</td>\n",
       "      <td>4</td>\n",
       "    </tr>\n",
       "    <tr>\n",
       "      <th>529</th>\n",
       "      <td>Teardrops on My Guitar - Pop Version</td>\n",
       "      <td>Taylor Swift</td>\n",
       "      <td>2006-10-24</td>\n",
       "      <td>179066</td>\n",
       "      <td>58</td>\n",
       "      <td>0.040200</td>\n",
       "      <td>0.459</td>\n",
       "      <td>0.753</td>\n",
       "      <td>0.000000</td>\n",
       "      <td>0.0863</td>\n",
       "      <td>-3.827</td>\n",
       "      <td>0.0537</td>\n",
       "      <td>199.997</td>\n",
       "      <td>4</td>\n",
       "    </tr>\n",
       "  </tbody>\n",
       "</table>\n",
       "<p>530 rows × 14 columns</p>\n",
       "</div>"
      ],
      "text/plain": [
       "                                              name  \\\n",
       "0           Welcome To New York (Taylor's Version)   \n",
       "1                   Blank Space (Taylor's Version)   \n",
       "2                         Style (Taylor's Version)   \n",
       "3              Out Of The Woods (Taylor's Version)   \n",
       "4    All You Had To Do Was Stay (Taylor's Version)   \n",
       "..                                             ...   \n",
       "525                                       Our Song   \n",
       "526                  I'm Only Me When I'm With You   \n",
       "527                                      Invisible   \n",
       "528                         A Perfectly Good Heart   \n",
       "529           Teardrops on My Guitar - Pop Version   \n",
       "\n",
       "                                album release_date  length  popularity  \\\n",
       "0    1989 (Taylor's Version) [Deluxe]   2023-10-27  212600          70   \n",
       "1    1989 (Taylor's Version) [Deluxe]   2023-10-27  231833          71   \n",
       "2    1989 (Taylor's Version) [Deluxe]   2023-10-27  231000          73   \n",
       "3    1989 (Taylor's Version) [Deluxe]   2023-10-27  235800          71   \n",
       "4    1989 (Taylor's Version) [Deluxe]   2023-10-27  193289          70   \n",
       "..                                ...          ...     ...         ...   \n",
       "525                      Taylor Swift   2006-10-24  201106          76   \n",
       "526                      Taylor Swift   2006-10-24  213053          62   \n",
       "527                      Taylor Swift   2006-10-24  203226          59   \n",
       "528                      Taylor Swift   2006-10-24  220146          57   \n",
       "529                      Taylor Swift   2006-10-24  179066          58   \n",
       "\n",
       "     acousticness  danceability  energy  instrumentalness  liveness  loudness  \\\n",
       "0        0.009420         0.757   0.610          0.000037    0.3670    -4.840   \n",
       "1        0.088500         0.733   0.733          0.000000    0.1680    -5.376   \n",
       "2        0.000421         0.511   0.822          0.019700    0.0899    -4.785   \n",
       "3        0.000537         0.545   0.885          0.000056    0.3850    -5.968   \n",
       "4        0.000656         0.588   0.721          0.000000    0.1310    -5.579   \n",
       "..            ...           ...     ...               ...       ...       ...   \n",
       "525      0.111000         0.668   0.672          0.000000    0.3290    -4.931   \n",
       "526      0.004520         0.563   0.934          0.000807    0.1030    -3.629   \n",
       "527      0.637000         0.612   0.394          0.000000    0.1470    -5.723   \n",
       "528      0.003490         0.483   0.751          0.000000    0.1280    -5.726   \n",
       "529      0.040200         0.459   0.753          0.000000    0.0863    -3.827   \n",
       "\n",
       "     speechiness    tempo  time_signature  \n",
       "0         0.0327  116.998               4  \n",
       "1         0.0670   96.057               4  \n",
       "2         0.0397   94.868               4  \n",
       "3         0.0447   92.021               4  \n",
       "4         0.0317   96.997               4  \n",
       "..           ...      ...             ...  \n",
       "525       0.0303   89.011               4  \n",
       "526       0.0646  143.964               4  \n",
       "527       0.0243   96.001               4  \n",
       "528       0.0365  156.092               4  \n",
       "529       0.0537  199.997               4  \n",
       "\n",
       "[530 rows x 14 columns]"
      ]
     },
     "execution_count": 71,
     "metadata": {},
     "output_type": "execute_result"
    }
   ],
   "source": [
    "tswift_df = get_file_in_s3(\"tswift_df.csv\")\n",
    "tswift_df\n"
   ]
  },
  {
   "cell_type": "code",
   "execution_count": 74,
   "id": "0b0b6bf2-0065-46f1-81d3-1d04cdcb3473",
   "metadata": {
    "tags": []
   },
   "outputs": [
    {
     "name": "stdout",
     "output_type": "stream",
     "text": [
      "An error occurred: tswift/DOJAspotify.csv\n"
     ]
    }
   ],
   "source": [
    "#doja cat\n",
    "doja_df = get_file_in_s3(\"DOJAspotify.csv\")\n",
    "doja_df"
   ]
  },
  {
   "cell_type": "code",
   "execution_count": 57,
   "id": "b9d5851e-95be-4149-9d69-42df18584343",
   "metadata": {
    "tags": []
   },
   "outputs": [
    {
     "name": "stdout",
     "output_type": "stream",
     "text": [
      "An error occurred: tswift/MILEYspotify(2).csv\n"
     ]
    }
   ],
   "source": [
    "#miley cyrus\n",
    "miley_df = get_file_in_s3(\"MILEYspotify(2).csv\")\n",
    "miley_df"
   ]
  },
  {
   "cell_type": "code",
   "execution_count": 55,
   "id": "f8bae980-c843-4ec8-9686-a64e99d34b5b",
   "metadata": {
    "tags": []
   },
   "outputs": [
    {
     "name": "stdout",
     "output_type": "stream",
     "text": [
      "An error occurred: tswift/OLIVIAspotify.csv\n"
     ]
    }
   ],
   "source": [
    "#olivia rodrigo\n",
    "olivia_df = get_file_in_s3(\"OLIVIAspotify.csv\")\n",
    "olivia_df"
   ]
  },
  {
   "cell_type": "code",
   "execution_count": 56,
   "id": "e40f1743-7397-477f-8ee1-8d4e49f57e7d",
   "metadata": {
    "tags": []
   },
   "outputs": [
    {
     "name": "stdout",
     "output_type": "stream",
     "text": [
      "An error occurred: tswift/LUKECspotify.csv\n"
     ]
    }
   ],
   "source": [
    "#luke combs\n",
    "luke_df = get_file_in_s3(\"LUKECspotify.csv\")\n",
    "luke_df"
   ]
  },
  {
   "cell_type": "code",
   "execution_count": 68,
   "id": "c4a5ade4-8ed2-4d36-89f8-ac1e9f9a2db8",
   "metadata": {
    "tags": []
   },
   "outputs": [
    {
     "name": "stdout",
     "output_type": "stream",
     "text": [
      "An error occurred: tswift/MORGANWspotify.csv\n"
     ]
    }
   ],
   "source": [
    "#morgan wallen\n",
    "morgan_df = get_file_in_s3(\"MORGANWspotify.csv\")\n",
    "morgan_df"
   ]
  },
  {
   "cell_type": "code",
   "execution_count": 58,
   "id": "fbe3b1d8-a352-4ad1-9444-97a151d52417",
   "metadata": {
    "tags": []
   },
   "outputs": [
    {
     "name": "stdout",
     "output_type": "stream",
     "text": [
      "An error occurred: tswift/ZACHBspotify.csv\n"
     ]
    }
   ],
   "source": [
    "#zach bryan\n",
    "zach_df = get_file_in_s3(\"ZACHBspotify.csv\")\n",
    "zach_df"
   ]
  },
  {
   "cell_type": "code",
   "execution_count": null,
   "id": "5920d2d0-1e53-4b66-9b53-39e22c3647be",
   "metadata": {
    "tags": []
   },
   "outputs": [],
   "source": [
    "#concat all of them together into one big dataframe\n",
    "combined_artists = pd.concat([tswift_df, doja_df, miley_df, olivia_df, luke_df, morgan_df, zach_df])\n",
    "combined_artists.head()"
   ]
  },
  {
   "cell_type": "code",
   "execution_count": null,
   "id": "33988263-fcaf-49ff-9b26-7928d0f2ca9c",
   "metadata": {
    "tags": []
   },
   "outputs": [],
   "source": [
    "combined_artists.tail()"
   ]
  },
  {
   "cell_type": "code",
   "execution_count": null,
   "id": "7a39ca65-45c0-4a43-8a13-263eac8cccf6",
   "metadata": {
    "tags": []
   },
   "outputs": [],
   "source": [
    "#turn big dataframe into csv for everyone to use\n",
    "combined_artists.to_csv(\"combined_artists.csv\", index=False)"
   ]
  }
 ],
 "metadata": {
  "kernelspec": {
   "display_name": "conda_python3",
   "language": "python",
   "name": "conda_python3"
  },
  "language_info": {
   "codemirror_mode": {
    "name": "ipython",
    "version": 3
   },
   "file_extension": ".py",
   "mimetype": "text/x-python",
   "name": "python",
   "nbconvert_exporter": "python",
   "pygments_lexer": "ipython3",
   "version": "3.10.13"
  }
 },
 "nbformat": 4,
 "nbformat_minor": 5
}
